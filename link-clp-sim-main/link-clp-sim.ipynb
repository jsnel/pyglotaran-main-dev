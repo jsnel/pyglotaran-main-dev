{
 "cells": [
  {
   "cell_type": "markdown",
   "metadata": {},
   "source": [
    "# Two dataset simulation case study"
   ]
  },
  {
   "cell_type": "code",
   "execution_count": null,
   "metadata": {},
   "outputs": [],
   "source": [
    "import numpy as np\n",
    "from pyglotaran_extras import plot_data_overview\n",
    "\n",
    "from glotaran.io import load_model, load_parameters\n",
    "from glotaran.simulation import simulate\n",
    "\n",
    "time_axis = np.arange(-1, 20, 0.01)\n",
    "spectral_axis = np.arange(600, 700, 1.4)\n",
    "simulation_coordinates = {\"time\": time_axis, \"spectral\": spectral_axis}"
   ]
  },
  {
   "cell_type": "markdown",
   "metadata": {},
   "source": [
    "## Simulate data"
   ]
  },
  {
   "cell_type": "code",
   "execution_count": null,
   "metadata": {},
   "outputs": [],
   "source": [
    "ds1 = simulate(\n",
    "    load_model(\"models/sim-model-ds1.yaml\"),\n",
    "    \"dataset_1\",\n",
    "    load_parameters(\"models/sim-params.yaml\"),\n",
    "    simulation_coordinates,\n",
    "    noise=True,\n",
    "    noise_seed=42,\n",
    "    noise_std_dev=0.1,\n",
    ")\n",
    "plot_data_overview(ds1);"
   ]
  },
  {
   "cell_type": "code",
   "execution_count": null,
   "metadata": {},
   "outputs": [],
   "source": [
    "ds2 = simulate(\n",
    "    load_model(\"models/sim-model-ds2.yaml\"),\n",
    "    \"dataset_2\",\n",
    "    load_parameters(\"models/sim-params.yaml\"),\n",
    "    simulation_coordinates,\n",
    "    noise=True,\n",
    "    noise_seed=42,\n",
    "    noise_std_dev=0.1,\n",
    ")\n",
    "plot_data_overview(ds2);"
   ]
  },
  {
   "cell_type": "markdown",
   "metadata": {},
   "source": [
    "## Fitting with link_clp true (default)"
   ]
  },
  {
   "cell_type": "code",
   "execution_count": null,
   "metadata": {},
   "outputs": [],
   "source": [
    "from glotaran.project import Scheme\n",
    "\n",
    "scheme = Scheme(\n",
    "    model=\"models/fit-model_link_clp_true.yaml\",\n",
    "    parameters=\"models/fit-params.yaml\",\n",
    "    data={\"dataset_1\": ds1, \"dataset_2\": ds2},\n",
    ")\n",
    "scheme.validate()"
   ]
  },
  {
   "cell_type": "code",
   "execution_count": null,
   "metadata": {},
   "outputs": [],
   "source": [
    "from glotaran.optimization.optimize import optimize\n",
    "\n",
    "result = optimize(scheme)\n",
    "result"
   ]
  },
  {
   "cell_type": "code",
   "execution_count": null,
   "metadata": {},
   "outputs": [],
   "source": [
    "from pyglotaran_extras import plot_overview\n",
    "\n",
    "plot_overview(result.data[\"dataset_1\"])\n",
    "plot_overview(result.data[\"dataset_2\"]);"
   ]
  },
  {
   "cell_type": "markdown",
   "metadata": {},
   "source": [
    "## Fit with link_clp false"
   ]
  },
  {
   "cell_type": "code",
   "execution_count": null,
   "metadata": {},
   "outputs": [],
   "source": [
    "from glotaran.project import Scheme\n",
    "\n",
    "scheme_link_clp_false = Scheme(\n",
    "    model=\"models/fit-model_link_clp_false.yaml\",\n",
    "    parameters=\"models/fit-params.yaml\",\n",
    "    data={\"dataset_1\": ds1, \"dataset_2\": ds2},\n",
    ")\n",
    "scheme_link_clp_false.validate()\n",
    "\n",
    "from glotaran.optimization.optimize import optimize\n",
    "\n",
    "result_link_clp_false = optimize(scheme_link_clp_false)\n",
    "result_link_clp_false"
   ]
  },
  {
   "cell_type": "code",
   "execution_count": null,
   "metadata": {},
   "outputs": [],
   "source": [
    "from pyglotaran_extras import plot_overview\n",
    "\n",
    "plot_overview(result_link_clp_false.data[\"dataset_1\"])\n",
    "plot_overview(result_link_clp_false.data[\"dataset_2\"]);"
   ]
  }
 ],
 "metadata": {
  "kernelspec": {
   "display_name": "pyglotaran310",
   "language": "python",
   "name": "python3"
  },
  "language_info": {
   "codemirror_mode": {
    "name": "ipython",
    "version": 3
   },
   "file_extension": ".py",
   "mimetype": "text/x-python",
   "name": "python",
   "nbconvert_exporter": "python",
   "pygments_lexer": "ipython3"
  }
 },
 "nbformat": 4,
 "nbformat_minor": 2
}
